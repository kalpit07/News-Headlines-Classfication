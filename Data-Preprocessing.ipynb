{
 "cells": [
  {
   "cell_type": "markdown",
   "metadata": {},
   "source": [
    "# Data Pre-Processing"
   ]
  },
  {
   "cell_type": "code",
   "execution_count": 1,
   "metadata": {},
   "outputs": [],
   "source": [
    "# Importing Libraries\n",
    "import numpy as np\n",
    "import pandas as pd"
   ]
  },
  {
   "cell_type": "code",
   "execution_count": 2,
   "metadata": {},
   "outputs": [
    {
     "data": {
      "text/html": [
       "<div>\n",
       "<style scoped>\n",
       "    .dataframe tbody tr th:only-of-type {\n",
       "        vertical-align: middle;\n",
       "    }\n",
       "\n",
       "    .dataframe tbody tr th {\n",
       "        vertical-align: top;\n",
       "    }\n",
       "\n",
       "    .dataframe thead th {\n",
       "        text-align: right;\n",
       "    }\n",
       "</style>\n",
       "<table border=\"1\" class=\"dataframe\">\n",
       "  <thead>\n",
       "    <tr style=\"text-align: right;\">\n",
       "      <th></th>\n",
       "      <th>TITLE</th>\n",
       "      <th>CATEGORY</th>\n",
       "    </tr>\n",
       "  </thead>\n",
       "  <tbody>\n",
       "    <tr>\n",
       "      <th>0</th>\n",
       "      <td>Fed official says weak data caused by weather,...</td>\n",
       "      <td>Business</td>\n",
       "    </tr>\n",
       "    <tr>\n",
       "      <th>1</th>\n",
       "      <td>Fed's Charles Plosser sees high bar for change...</td>\n",
       "      <td>Business</td>\n",
       "    </tr>\n",
       "    <tr>\n",
       "      <th>2</th>\n",
       "      <td>US open: Stocks fall after Fed official hints ...</td>\n",
       "      <td>Business</td>\n",
       "    </tr>\n",
       "    <tr>\n",
       "      <th>3</th>\n",
       "      <td>Fed risks falling 'behind the curve', Charles ...</td>\n",
       "      <td>Business</td>\n",
       "    </tr>\n",
       "    <tr>\n",
       "      <th>4</th>\n",
       "      <td>Fed's Plosser: Nasty Weather Has Curbed Job Gr...</td>\n",
       "      <td>Business</td>\n",
       "    </tr>\n",
       "  </tbody>\n",
       "</table>\n",
       "</div>"
      ],
      "text/plain": [
       "                                               TITLE  CATEGORY\n",
       "0  Fed official says weak data caused by weather,...  Business\n",
       "1  Fed's Charles Plosser sees high bar for change...  Business\n",
       "2  US open: Stocks fall after Fed official hints ...  Business\n",
       "3  Fed risks falling 'behind the curve', Charles ...  Business\n",
       "4  Fed's Plosser: Nasty Weather Has Curbed Job Gr...  Business"
      ]
     },
     "execution_count": 2,
     "metadata": {},
     "output_type": "execute_result"
    }
   ],
   "source": [
    "# Creating pandas DataFrame\n",
    "df = pd.read_csv('News Headlines Dataset.csv')\n",
    "\n",
    "df.head()"
   ]
  },
  {
   "cell_type": "code",
   "execution_count": 3,
   "metadata": {},
   "outputs": [
    {
     "data": {
      "text/plain": [
       "array(['Business', 'Science & Technology', 'Entertainment', 'Health'],\n",
       "      dtype=object)"
      ]
     },
     "execution_count": 3,
     "metadata": {},
     "output_type": "execute_result"
    }
   ],
   "source": [
    "# News Categories\n",
    "pd.unique(df['CATEGORY'])"
   ]
  },
  {
   "cell_type": "code",
   "execution_count": 4,
   "metadata": {},
   "outputs": [],
   "source": [
    "# Headlines Tokenization\n",
    "\n",
    "# Required Libraries\n",
    "from nltk.tokenize import sent_tokenize, word_tokenize\n",
    "\n",
    "TOKENIZED_TITLES = []\n",
    "\n",
    "for headline in df['TITLE']:\n",
    "    TOKENIZED_TITLES.append(word_tokenize(headline.lower()))"
   ]
  },
  {
   "cell_type": "code",
   "execution_count": 5,
   "metadata": {},
   "outputs": [
    {
     "name": "stdout",
     "output_type": "stream",
     "text": [
      "['fed', 'official', 'says', 'weak', 'data', 'caused', 'by', 'weather', ',', 'should', 'not', 'slow', 'taper']\n",
      "['fed', \"'s\", 'charles', 'plosser', 'sees', 'high', 'bar', 'for', 'change', 'in', 'pace', 'of', 'tapering']\n",
      "['us', 'open', ':', 'stocks', 'fall', 'after', 'fed', 'official', 'hints', 'at', 'accelerated', 'tapering']\n",
      "['fed', 'risks', 'falling', \"'behind\", 'the', 'curve', \"'\", ',', 'charles', 'plosser', 'says']\n",
      "['fed', \"'s\", 'plosser', ':', 'nasty', 'weather', 'has', 'curbed', 'job', 'growth']\n",
      "['plosser', ':', 'fed', 'may', 'have', 'to', 'accelerate', 'tapering', 'pace']\n",
      "['fed', \"'s\", 'plosser', ':', 'taper', 'pace', 'may', 'be', 'too', 'slow']\n",
      "['fed', \"'s\", 'plosser', 'expects', 'us', 'unemployment', 'to', 'fall', 'to', '6.2', '%', 'by', 'the', 'end', 'of', '2014']\n",
      "['us', 'jobs', 'growth', 'last', 'month', 'hit', 'by', 'weather', ':', 'fed', 'president', 'charles', 'plosser']\n",
      "['ecb', 'unlikely', 'to', 'end', 'sterilisation', 'of', 'smp', 'purchases', '-', 'traders']\n"
     ]
    }
   ],
   "source": [
    "# Headlines have been tokenized\n",
    "for title in TOKENIZED_TITLES[0:10]:\n",
    "    print(title)"
   ]
  },
  {
   "cell_type": "code",
   "execution_count": 6,
   "metadata": {},
   "outputs": [],
   "source": [
    "# Pickling TOKENIZED_TITLES\n",
    "\n",
    "# Required Library\n",
    "import pickle\n",
    "\n",
    "file = \"pklFiles/TOKENIZED_TITLES.pkl\"\n",
    "fileobj = open(file, 'wb')\n",
    "pickle.dump(TOKENIZED_TITLES, fileobj)\n",
    "fileobj.close()"
   ]
  },
  {
   "cell_type": "code",
   "execution_count": 7,
   "metadata": {},
   "outputs": [
    {
     "name": "stderr",
     "output_type": "stream",
     "text": [
      "[nltk_data] Downloading package stopwords to\n",
      "[nltk_data]     C:\\Users\\Abhi\\AppData\\Roaming\\nltk_data...\n",
      "[nltk_data]   Package stopwords is already up-to-date!\n"
     ]
    },
    {
     "data": {
      "text/plain": [
       "True"
      ]
     },
     "execution_count": 7,
     "metadata": {},
     "output_type": "execute_result"
    }
   ],
   "source": [
    "# Download 'stopwords' from nltk if using for the first time\n",
    "import nltk\n",
    "nltk.download('stopwords')"
   ]
  },
  {
   "cell_type": "code",
   "execution_count": 8,
   "metadata": {},
   "outputs": [
    {
     "name": "stdout",
     "output_type": "stream",
     "text": [
      "Stop Words : \n",
      "{'as', 'own', 'didn', 'him', 've', 'ourselves', 'have', 'shouldn', 'hadn', 'those', \"couldn't\", 'her', 'over', 'too', 'wasn', \"wouldn't\", \"hadn't\", 'any', 'against', \"shouldn't\", 'aren', 'yourselves', 'y', 'an', 'herself', 'under', 'more', \"mustn't\", 'it', 'don', 'now', 'is', \"you'll\", 'than', 'then', 'which', \"wasn't\", 'such', \"aren't\", 'on', 'them', 'or', 'can', 'm', 're', 'shan', 'the', 'won', 'does', 'a', 'these', 'off', 'haven', 'yours', 'am', \"you've\", 'why', \"you'd\", 'isn', 'wouldn', 'and', 'his', 'this', 'was', 'should', 'each', 'our', 'very', \"mightn't\", 'will', 'mustn', 'to', 'be', 'between', 'further', 'once', 'down', 'did', 'ain', \"don't\", \"weren't\", 'so', 'in', \"should've\", 'here', 'd', 'ma', 'who', 'nor', \"it's\", 'hasn', 'we', 'its', 'if', 'up', 'me', \"you're\", 'themselves', 'mightn', 'same', 'for', \"that'll\", 'had', 'at', 'from', 'o', 'she', \"isn't\", 'after', 'before', 'that', \"won't\", \"hasn't\", 'yourself', 'your', 'having', 'll', 'my', 'been', 'where', 'doing', 'through', 'all', 'couldn', 'few', 'with', 'only', 'what', 'while', 'just', 'i', 'there', 'some', 'into', 'not', 'needn', 'do', 'most', 'whom', 'hers', 'were', 'but', 'theirs', 'of', 'he', \"she's\", 'no', \"doesn't\", 'itself', 'when', 'has', 'how', 'during', \"haven't\", \"shan't\", 'are', 'being', 'their', 'again', 'because', 'below', 'ours', 't', 's', \"needn't\", 'weren', 'myself', 'until', 'they', 'other', 'about', 'himself', 'doesn', 'above', \"didn't\", 'by', 'both', 'you', 'out'}\n",
      "\n",
      "Punctuations : \n",
      "{'>', ')', '-', '`', '?', '$', '\\\\', '/', ']', ',', '.', '{', '~', '%', '=', '_', '<', '#', ';', '!', '(', '\"', '@', '^', \"'\", '|', '[', '&', '*', '}', '+', ':'}\n",
      "\n",
      "Filtered Titles : \n",
      "[['fed', 'official', 'says', 'weak', 'data', 'caused', 'weather', 'slow', 'taper'], ['fed', 'charles', 'plosser', 'sees', 'high', 'bar', 'change', 'pace', 'tapering'], ['us', 'open', 'stocks', 'fall', 'fed', 'official', 'hints', 'accelerated', 'tapering'], ['fed', 'risks', 'falling', \"'behind\", 'curve', 'charles', 'plosser', 'says'], ['fed', 'plosser', 'nasty', 'weather', 'curbed', 'job', 'growth']]\n"
     ]
    }
   ],
   "source": [
    "# Removal of Stop Words & Punctuation\n",
    "# Also removes 's\n",
    "\n",
    "# Required Libraries\n",
    "from nltk.corpus import stopwords\n",
    "import string\n",
    "\n",
    "# Stop Words for English Language\n",
    "stop_words = set(stopwords.words(\"english\"))\n",
    "print(\"Stop Words : \")\n",
    "print(stop_words)\n",
    "\n",
    "# Punctuations\n",
    "punctuations = set(string.punctuation)\n",
    "print(\"\\nPunctuations : \")\n",
    "print(punctuations)\n",
    "\n",
    "# FILTERED TITLE =  Title Without Stop Words & Punctuations\n",
    "FILTERED_TITLES = []\n",
    "\n",
    "for title in TOKENIZED_TITLES:\n",
    "    temp_title = []\n",
    "    for word in title:\n",
    "        if((word not in stop_words) and (word not in punctuations) and (word != \"'s\")):\n",
    "            temp_title.append(word)\n",
    "            \n",
    "    FILTERED_TITLES.append(temp_title)\n",
    "        \n",
    "\n",
    "print(\"\\nFiltered Titles : \")\n",
    "print(FILTERED_TITLES[0:5])"
   ]
  },
  {
   "cell_type": "code",
   "execution_count": 9,
   "metadata": {},
   "outputs": [],
   "source": [
    "# Pickling FILTERED_TITLES\n",
    "\n",
    "# Library already imported\n",
    "# import pickle\n",
    "\n",
    "file = \"pklFiles/FILTERED_TITLES.pkl\"\n",
    "fileobj = open(file, 'wb')\n",
    "pickle.dump(FILTERED_TITLES, fileobj)\n",
    "fileobj.close()"
   ]
  },
  {
   "cell_type": "code",
   "execution_count": 10,
   "metadata": {},
   "outputs": [
    {
     "name": "stdout",
     "output_type": "stream",
     "text": [
      "Stemmed Titles Headlines : \n",
      "['fed offici say weak data caus weather slow taper', 'fed charl plosser see high bar chang pace taper', 'us open stock fall fed offici hint acceler taper', \"fed risk fall 'behind curv charl plosser say\", 'fed plosser nasti weather curb job growth']\n"
     ]
    }
   ],
   "source": [
    "# Stemming using Porter Stemmer\n",
    "\n",
    "# Required Library\n",
    "from nltk.stem import PorterStemmer\n",
    "\n",
    "porter = PorterStemmer()\n",
    "\n",
    "STEMMED_TITLES_HEADLINES = []\n",
    "\n",
    "for title in FILTERED_TITLES:\n",
    "    temp_title = []\n",
    "    for word in title:\n",
    "        temp_title.append(porter.stem(word))\n",
    "        \n",
    "    STEMMED_TITLES_HEADLINES.append(\" \".join(temp_title))\n",
    "    \n",
    "    \n",
    "print(\"Stemmed Titles Headlines : \")\n",
    "print(STEMMED_TITLES_HEADLINES[0:5])"
   ]
  },
  {
   "cell_type": "code",
   "execution_count": 11,
   "metadata": {},
   "outputs": [],
   "source": [
    "# Pickling STEMMED_TITLES_HEADLINES\n",
    "\n",
    "# Library already imported\n",
    "# import pickle\n",
    "\n",
    "file = \"pklFiles/STEMMED_TITLES_HEADLINES.pkl\"\n",
    "fileobj = open(file, 'wb')\n",
    "pickle.dump(STEMMED_TITLES_HEADLINES, fileobj)\n",
    "fileobj.close()"
   ]
  },
  {
   "cell_type": "code",
   "execution_count": 12,
   "metadata": {},
   "outputs": [
    {
     "data": {
      "text/html": [
       "<div>\n",
       "<style scoped>\n",
       "    .dataframe tbody tr th:only-of-type {\n",
       "        vertical-align: middle;\n",
       "    }\n",
       "\n",
       "    .dataframe tbody tr th {\n",
       "        vertical-align: top;\n",
       "    }\n",
       "\n",
       "    .dataframe thead th {\n",
       "        text-align: right;\n",
       "    }\n",
       "</style>\n",
       "<table border=\"1\" class=\"dataframe\">\n",
       "  <thead>\n",
       "    <tr style=\"text-align: right;\">\n",
       "      <th></th>\n",
       "      <th>TITLE</th>\n",
       "      <th>CATEGORY</th>\n",
       "    </tr>\n",
       "  </thead>\n",
       "  <tbody>\n",
       "    <tr>\n",
       "      <th>0</th>\n",
       "      <td>Fed official says weak data caused by weather,...</td>\n",
       "      <td>Business</td>\n",
       "    </tr>\n",
       "    <tr>\n",
       "      <th>1</th>\n",
       "      <td>Fed's Charles Plosser sees high bar for change...</td>\n",
       "      <td>Business</td>\n",
       "    </tr>\n",
       "    <tr>\n",
       "      <th>2</th>\n",
       "      <td>US open: Stocks fall after Fed official hints ...</td>\n",
       "      <td>Business</td>\n",
       "    </tr>\n",
       "    <tr>\n",
       "      <th>3</th>\n",
       "      <td>Fed risks falling 'behind the curve', Charles ...</td>\n",
       "      <td>Business</td>\n",
       "    </tr>\n",
       "    <tr>\n",
       "      <th>4</th>\n",
       "      <td>Fed's Plosser: Nasty Weather Has Curbed Job Gr...</td>\n",
       "      <td>Business</td>\n",
       "    </tr>\n",
       "  </tbody>\n",
       "</table>\n",
       "</div>"
      ],
      "text/plain": [
       "                                               TITLE  CATEGORY\n",
       "0  Fed official says weak data caused by weather,...  Business\n",
       "1  Fed's Charles Plosser sees high bar for change...  Business\n",
       "2  US open: Stocks fall after Fed official hints ...  Business\n",
       "3  Fed risks falling 'behind the curve', Charles ...  Business\n",
       "4  Fed's Plosser: Nasty Weather Has Curbed Job Gr...  Business"
      ]
     },
     "execution_count": 12,
     "metadata": {},
     "output_type": "execute_result"
    }
   ],
   "source": [
    "# Data Frame\n",
    "df.head()"
   ]
  },
  {
   "cell_type": "code",
   "execution_count": 13,
   "metadata": {},
   "outputs": [
    {
     "data": {
      "text/html": [
       "<div>\n",
       "<style scoped>\n",
       "    .dataframe tbody tr th:only-of-type {\n",
       "        vertical-align: middle;\n",
       "    }\n",
       "\n",
       "    .dataframe tbody tr th {\n",
       "        vertical-align: top;\n",
       "    }\n",
       "\n",
       "    .dataframe thead th {\n",
       "        text-align: right;\n",
       "    }\n",
       "</style>\n",
       "<table border=\"1\" class=\"dataframe\">\n",
       "  <thead>\n",
       "    <tr style=\"text-align: right;\">\n",
       "      <th></th>\n",
       "      <th>TITLE</th>\n",
       "      <th>CATEGORY</th>\n",
       "    </tr>\n",
       "  </thead>\n",
       "  <tbody>\n",
       "    <tr>\n",
       "      <th>0</th>\n",
       "      <td>fed offici say weak data caus weather slow taper</td>\n",
       "      <td>Business</td>\n",
       "    </tr>\n",
       "    <tr>\n",
       "      <th>1</th>\n",
       "      <td>fed charl plosser see high bar chang pace taper</td>\n",
       "      <td>Business</td>\n",
       "    </tr>\n",
       "    <tr>\n",
       "      <th>2</th>\n",
       "      <td>us open stock fall fed offici hint acceler taper</td>\n",
       "      <td>Business</td>\n",
       "    </tr>\n",
       "    <tr>\n",
       "      <th>3</th>\n",
       "      <td>fed risk fall 'behind curv charl plosser say</td>\n",
       "      <td>Business</td>\n",
       "    </tr>\n",
       "    <tr>\n",
       "      <th>4</th>\n",
       "      <td>fed plosser nasti weather curb job growth</td>\n",
       "      <td>Business</td>\n",
       "    </tr>\n",
       "  </tbody>\n",
       "</table>\n",
       "</div>"
      ],
      "text/plain": [
       "                                              TITLE  CATEGORY\n",
       "0  fed offici say weak data caus weather slow taper  Business\n",
       "1   fed charl plosser see high bar chang pace taper  Business\n",
       "2  us open stock fall fed offici hint acceler taper  Business\n",
       "3      fed risk fall 'behind curv charl plosser say  Business\n",
       "4         fed plosser nasti weather curb job growth  Business"
      ]
     },
     "execution_count": 13,
     "metadata": {},
     "output_type": "execute_result"
    }
   ],
   "source": [
    "# Replacing HEADLINES with STEMMED_TITLES_HEADLINES\n",
    "df = df.drop(['TITLE'], axis=1)\n",
    "df.insert(0, \"TITLE\", STEMMED_TITLES_HEADLINES, True)\n",
    "\n",
    "df.head()"
   ]
  },
  {
   "cell_type": "code",
   "execution_count": 14,
   "metadata": {},
   "outputs": [
    {
     "data": {
      "text/html": [
       "<div>\n",
       "<style scoped>\n",
       "    .dataframe tbody tr th:only-of-type {\n",
       "        vertical-align: middle;\n",
       "    }\n",
       "\n",
       "    .dataframe tbody tr th {\n",
       "        vertical-align: top;\n",
       "    }\n",
       "\n",
       "    .dataframe thead th {\n",
       "        text-align: right;\n",
       "    }\n",
       "</style>\n",
       "<table border=\"1\" class=\"dataframe\">\n",
       "  <thead>\n",
       "    <tr style=\"text-align: right;\">\n",
       "      <th></th>\n",
       "      <th>TITLE</th>\n",
       "      <th>CATEGORY</th>\n",
       "      <th>ENCODED_CATEGORY</th>\n",
       "    </tr>\n",
       "  </thead>\n",
       "  <tbody>\n",
       "    <tr>\n",
       "      <th>0</th>\n",
       "      <td>fed offici say weak data caus weather slow taper</td>\n",
       "      <td>Business</td>\n",
       "      <td>0</td>\n",
       "    </tr>\n",
       "    <tr>\n",
       "      <th>1</th>\n",
       "      <td>fed charl plosser see high bar chang pace taper</td>\n",
       "      <td>Business</td>\n",
       "      <td>0</td>\n",
       "    </tr>\n",
       "    <tr>\n",
       "      <th>2</th>\n",
       "      <td>us open stock fall fed offici hint acceler taper</td>\n",
       "      <td>Business</td>\n",
       "      <td>0</td>\n",
       "    </tr>\n",
       "    <tr>\n",
       "      <th>3</th>\n",
       "      <td>fed risk fall 'behind curv charl plosser say</td>\n",
       "      <td>Business</td>\n",
       "      <td>0</td>\n",
       "    </tr>\n",
       "    <tr>\n",
       "      <th>4</th>\n",
       "      <td>fed plosser nasti weather curb job growth</td>\n",
       "      <td>Business</td>\n",
       "      <td>0</td>\n",
       "    </tr>\n",
       "  </tbody>\n",
       "</table>\n",
       "</div>"
      ],
      "text/plain": [
       "                                              TITLE  CATEGORY  \\\n",
       "0  fed offici say weak data caus weather slow taper  Business   \n",
       "1   fed charl plosser see high bar chang pace taper  Business   \n",
       "2  us open stock fall fed offici hint acceler taper  Business   \n",
       "3      fed risk fall 'behind curv charl plosser say  Business   \n",
       "4         fed plosser nasti weather curb job growth  Business   \n",
       "\n",
       "   ENCODED_CATEGORY  \n",
       "0                 0  \n",
       "1                 0  \n",
       "2                 0  \n",
       "3                 0  \n",
       "4                 0  "
      ]
     },
     "execution_count": 14,
     "metadata": {},
     "output_type": "execute_result"
    }
   ],
   "source": [
    "# Encoding News Categories\n",
    "\n",
    "# Required Library\n",
    "from sklearn.preprocessing import LabelEncoder\n",
    "\n",
    "labelencoder = LabelEncoder()\n",
    "\n",
    "# Adding Column of ENCODED CATEGORY\n",
    "df.insert(2, \"ENCODED_CATEGORY\", labelencoder.fit_transform(df['CATEGORY']), True)\n",
    "\n",
    "# Business -> 0\n",
    "# Health -> 1\n",
    "# Entertainment -> 2\n",
    "# Science & Technology -> 3\n",
    "\n",
    "df.head()"
   ]
  },
  {
   "cell_type": "code",
   "execution_count": 15,
   "metadata": {},
   "outputs": [],
   "source": [
    "# Pickling DataFrame\n",
    "\n",
    "# Library already imported\n",
    "# import pickle\n",
    "\n",
    "file = \"pklFiles/DATAFRAME.pkl\"\n",
    "fileobj = open(file, 'wb')\n",
    "pickle.dump(df, fileobj)\n",
    "fileobj.close()"
   ]
  }
 ],
 "metadata": {
  "kernelspec": {
   "display_name": "Python 3",
   "language": "python",
   "name": "python3"
  },
  "language_info": {
   "codemirror_mode": {
    "name": "ipython",
    "version": 3
   },
   "file_extension": ".py",
   "mimetype": "text/x-python",
   "name": "python",
   "nbconvert_exporter": "python",
   "pygments_lexer": "ipython3",
   "version": "3.7.6"
  }
 },
 "nbformat": 4,
 "nbformat_minor": 4
}
