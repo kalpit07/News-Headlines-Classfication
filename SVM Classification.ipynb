{
 "cells": [
  {
   "cell_type": "markdown",
   "metadata": {},
   "source": [
    "# Support Vector Machine Classification"
   ]
  },
  {
   "cell_type": "markdown",
   "metadata": {},
   "source": [
    "&nbsp;"
   ]
  },
  {
   "cell_type": "code",
   "execution_count": 1,
   "metadata": {},
   "outputs": [],
   "source": [
    "# Importing Libraries\n",
    "import numpy as np\n",
    "import pandas as pd"
   ]
  },
  {
   "cell_type": "code",
   "execution_count": 2,
   "metadata": {},
   "outputs": [
    {
     "name": "stdout",
     "output_type": "stream",
     "text": [
      "<class 'pandas.core.frame.DataFrame'>\n"
     ]
    },
    {
     "data": {
      "text/html": [
       "<div>\n",
       "<style scoped>\n",
       "    .dataframe tbody tr th:only-of-type {\n",
       "        vertical-align: middle;\n",
       "    }\n",
       "\n",
       "    .dataframe tbody tr th {\n",
       "        vertical-align: top;\n",
       "    }\n",
       "\n",
       "    .dataframe thead th {\n",
       "        text-align: right;\n",
       "    }\n",
       "</style>\n",
       "<table border=\"1\" class=\"dataframe\">\n",
       "  <thead>\n",
       "    <tr style=\"text-align: right;\">\n",
       "      <th></th>\n",
       "      <th>TITLE</th>\n",
       "      <th>CATEGORY</th>\n",
       "      <th>ENCODED_CATEGORY</th>\n",
       "    </tr>\n",
       "  </thead>\n",
       "  <tbody>\n",
       "    <tr>\n",
       "      <th>0</th>\n",
       "      <td>fed offici say weak data caus weather slow taper</td>\n",
       "      <td>Business</td>\n",
       "      <td>0</td>\n",
       "    </tr>\n",
       "    <tr>\n",
       "      <th>1</th>\n",
       "      <td>fed charl plosser see high bar chang pace taper</td>\n",
       "      <td>Business</td>\n",
       "      <td>0</td>\n",
       "    </tr>\n",
       "    <tr>\n",
       "      <th>2</th>\n",
       "      <td>us open stock fall fed offici hint acceler taper</td>\n",
       "      <td>Business</td>\n",
       "      <td>0</td>\n",
       "    </tr>\n",
       "    <tr>\n",
       "      <th>3</th>\n",
       "      <td>fed risk fall 'behind curv charl plosser say</td>\n",
       "      <td>Business</td>\n",
       "      <td>0</td>\n",
       "    </tr>\n",
       "    <tr>\n",
       "      <th>4</th>\n",
       "      <td>fed plosser nasti weather curb job growth</td>\n",
       "      <td>Business</td>\n",
       "      <td>0</td>\n",
       "    </tr>\n",
       "  </tbody>\n",
       "</table>\n",
       "</div>"
      ],
      "text/plain": [
       "                                              TITLE  CATEGORY  \\\n",
       "0  fed offici say weak data caus weather slow taper  Business   \n",
       "1   fed charl plosser see high bar chang pace taper  Business   \n",
       "2  us open stock fall fed offici hint acceler taper  Business   \n",
       "3      fed risk fall 'behind curv charl plosser say  Business   \n",
       "4         fed plosser nasti weather curb job growth  Business   \n",
       "\n",
       "   ENCODED_CATEGORY  \n",
       "0                 0  \n",
       "1                 0  \n",
       "2                 0  \n",
       "3                 0  \n",
       "4                 0  "
      ]
     },
     "execution_count": 2,
     "metadata": {},
     "output_type": "execute_result"
    }
   ],
   "source": [
    "# Loading DataFrame\n",
    "\n",
    "# Required Library\n",
    "import pickle\n",
    "\n",
    "file = \"pklFiles/DATAFRAME.pkl\"\n",
    "fileobj = open(file, 'rb')\n",
    "df = pickle.load(fileobj)\n",
    "fileobj.close()\n",
    "\n",
    "print(type(df))\n",
    "df.head()"
   ]
  },
  {
   "cell_type": "code",
   "execution_count": 3,
   "metadata": {},
   "outputs": [],
   "source": [
    "# News Headlines\n",
    "X = df['TITLE']\n",
    "\n",
    "# Encoded News Category\n",
    "y = df['ENCODED_CATEGORY']"
   ]
  },
  {
   "cell_type": "code",
   "execution_count": 4,
   "metadata": {},
   "outputs": [],
   "source": [
    "# Splitting the dataset into Training set & Testing set\n",
    "\n",
    "# Required Library\n",
    "from sklearn.model_selection import train_test_split\n",
    "\n",
    "# Testing_set = 25%  and  Training_set = 75%\n",
    "X_train, X_test, y_train, y_test = train_test_split(X, y , test_size = 0.25, random_state = 51)"
   ]
  },
  {
   "cell_type": "code",
   "execution_count": 5,
   "metadata": {},
   "outputs": [
    {
     "name": "stdout",
     "output_type": "stream",
     "text": [
      "Shape of X : (422419,)\n",
      "Shape of y : (422419,)\n",
      "\n",
      "\n",
      "Shape of X_train : (316814,)\n",
      "Shape of y_train : (316814,)\n",
      "Shape of X_test  : (105605,)\n",
      "Shape of y_test  : (105605,)\n"
     ]
    }
   ],
   "source": [
    "print(\"Shape of X : \" + str(X.shape))\n",
    "print(\"Shape of y : \" + str(y.shape))\n",
    "\n",
    "print(\"\\n\")\n",
    "print(\"Shape of X_train : \" + str(X_train.shape))\n",
    "print(\"Shape of y_train : \" + str(y_train.shape))\n",
    "print(\"Shape of X_test  : \" + str(X_test.shape))\n",
    "print(\"Shape of y_test  : \" + str(y_test.shape))"
   ]
  },
  {
   "cell_type": "markdown",
   "metadata": {},
   "source": [
    "&nbsp;"
   ]
  },
  {
   "cell_type": "markdown",
   "metadata": {},
   "source": [
    "### Feature Selection : TF-IDF Approach"
   ]
  },
  {
   "cell_type": "code",
   "execution_count": 6,
   "metadata": {},
   "outputs": [],
   "source": [
    "# Feature Extraction\n",
    "\n",
    "# Required Library\n",
    "from sklearn.feature_extraction.text import TfidfVectorizer\n",
    "\n",
    "# Loading Fitted TfidfVectorizer\n",
    "tfidf_vectorizer = pickle.load(open(\"pklFiles/tfidf_vectorizer.pkl\",\"rb\"))\n",
    "\n",
    "# Tranforming Training Data (X_train)\n",
    "tfidf_X_train = tfidf_vectorizer.transform(X_train.values)\n",
    "\n",
    "# Tranforming Testing Data (X_test)\n",
    "tfidf_X_test = tfidf_vectorizer.transform(X_test.values)"
   ]
  },
  {
   "cell_type": "code",
   "execution_count": 7,
   "metadata": {},
   "outputs": [],
   "source": [
    "# Support Vector Machine\n",
    "\n",
    "# Required Library\n",
    "from sklearn.svm import SVC\n",
    "\n",
    "# Instantiating SVM Classifier with Regularization Parameter, C = 1.0\n",
    "svm_classifier = SVC(C=1.0, kernel='linear', gamma='auto')\n",
    "\n",
    "# Fitting svm_classifier to Training Data\n",
    "svm_classifier.fit(tfidf_X_train, y_train)\n",
    "\n",
    "# Saving svm_classifier for tfidf_vectorizer\n",
    "pickle.dump(svm_classifier, open(\"pklFiles/svm_classifier_for_tfidf_vectorizer.pkl\", \"wb\"))"
   ]
  },
  {
   "cell_type": "code",
   "execution_count": 8,
   "metadata": {},
   "outputs": [],
   "source": [
    "# Prediction\n",
    "pred = svm_classifier.predict(tfidf_X_test)"
   ]
  },
  {
   "cell_type": "code",
   "execution_count": 9,
   "metadata": {},
   "outputs": [
    {
     "name": "stdout",
     "output_type": "stream",
     "text": [
      "Support Vector Machine : (TF-IDF Approach) \n",
      "\n",
      "Accuracy : 94.59 %\n",
      "\n",
      "\n",
      "Confusion Matrix : \n",
      "[[27032   410   228  1521]\n",
      " [  456 37190   128   273]\n",
      " [  425   268 10500   137]\n",
      " [ 1338   432    99 25168]]\n"
     ]
    }
   ],
   "source": [
    "# Accuracy Score & Confusion Matrix\n",
    "\n",
    "# Required Library\n",
    "from sklearn import metrics\n",
    "\n",
    "print(\"Support Vector Machine : (TF-IDF Approach) \\n\")\n",
    "\n",
    "# Accuracy\n",
    "a_score = metrics.accuracy_score(y_test, pred)\n",
    "print(\"Accuracy : \" + str(\"{:.2f}\".format(a_score*100)),'%')\n",
    "\n",
    "print(\"\\n\")\n",
    "\n",
    "# Confusion Matrix\n",
    "# Labels : 0(Business), 1(Entertainment), 2(Health), 3(Science & Technology)\n",
    "# By defualt, Horizontally, Labels are from 0 to 3\n",
    "# By defualt, Vertically,   Labels are from 0 to 3\n",
    "confusion_matrix = metrics.confusion_matrix(y_test, pred)\n",
    "\n",
    "print(\"Confusion Matrix : \")\n",
    "print(confusion_matrix)"
   ]
  },
  {
   "cell_type": "markdown",
   "metadata": {},
   "source": [
    "&nbsp;"
   ]
  },
  {
   "cell_type": "markdown",
   "metadata": {},
   "source": [
    "### Feature Selection : Bag of Words (BOG) Approach"
   ]
  },
  {
   "cell_type": "code",
   "execution_count": 10,
   "metadata": {},
   "outputs": [],
   "source": [
    "# Feature Extraction\n",
    "\n",
    "# Required Library\n",
    "from sklearn.feature_extraction.text import CountVectorizer\n",
    "\n",
    "# Loading Fitted CountVectorizer\n",
    "count_vectorizer = pickle.load(open(\"pklFiles/count_vectorizer.pkl\",\"rb\"))\n",
    "\n",
    "# Tranforming Training Data (X_train)\n",
    "count_X_train = count_vectorizer.transform(X_train.values)\n",
    "\n",
    "# Tranforming Testing Data (X_test)\n",
    "count_X_test = count_vectorizer.transform(X_test.values)"
   ]
  },
  {
   "cell_type": "code",
   "execution_count": 11,
   "metadata": {},
   "outputs": [],
   "source": [
    "# Support Vector Machine\n",
    "\n",
    "# Required Library\n",
    "from sklearn.svm import SVC\n",
    "\n",
    "# Instantiating SVM Classifier with Regularization Parameter, C = 1.0\n",
    "svm_classifier = SVC(C=1.0, kernel='linear', gamma='auto')\n",
    "\n",
    "# Fitting svm_classifier to Training Data\n",
    "svm_classifier.fit(count_X_train, y_train)\n",
    "\n",
    "# Saving svm_classifier for count_vectorizer\n",
    "pickle.dump(svm_classifier, open(\"pklFiles/svm_classifier_for_count_vectorizer.pkl\", \"wb\"))"
   ]
  },
  {
   "cell_type": "code",
   "execution_count": 12,
   "metadata": {},
   "outputs": [],
   "source": [
    "# Prediction\n",
    "pred = svm_classifier.predict(count_X_test)"
   ]
  },
  {
   "cell_type": "code",
   "execution_count": 13,
   "metadata": {},
   "outputs": [
    {
     "name": "stdout",
     "output_type": "stream",
     "text": [
      "Support Vector Machine : (BOG Approach) \n",
      "\n",
      "Accuracy : 94.44 %\n",
      "\n",
      "\n",
      "Confusion Matrix :\n",
      "[[27009   402   267  1513]\n",
      " [  533 37083   151   280]\n",
      " [  437   245 10520   128]\n",
      " [ 1372   431   111 25123]]\n"
     ]
    }
   ],
   "source": [
    "# Accuracy Score & Confusion Matrix\n",
    "\n",
    "# Required Library\n",
    "from sklearn import metrics\n",
    "\n",
    "print(\"Support Vector Machine : (BOG Approach) \\n\")\n",
    "\n",
    "# Accuracy\n",
    "a_score = metrics.accuracy_score(y_test, pred)\n",
    "print(\"Accuracy : \" + str(\"{:.2f}\".format(a_score*100)),'%')\n",
    "\n",
    "print(\"\\n\")\n",
    "\n",
    "# Confusion Matrix\n",
    "# Labels : 0(Business), 1(Entertainment), 2(Health), 3(Science & Technology)\n",
    "# By defualt, Horizontally, Labels are from 0 to 3\n",
    "# By defualt, Vertically,   Labels are from 0 to 3\n",
    "confusion_matrix = metrics.confusion_matrix(y_test, pred)\n",
    "\n",
    "print(\"Confusion Matrix :\")\n",
    "print(confusion_matrix)"
   ]
  }
 ],
 "metadata": {
  "kernelspec": {
   "display_name": "Python 3",
   "language": "python",
   "name": "python3"
  },
  "language_info": {
   "codemirror_mode": {
    "name": "ipython",
    "version": 3
   },
   "file_extension": ".py",
   "mimetype": "text/x-python",
   "name": "python",
   "nbconvert_exporter": "python",
   "pygments_lexer": "ipython3",
   "version": "3.7.6"
  }
 },
 "nbformat": 4,
 "nbformat_minor": 4
}
