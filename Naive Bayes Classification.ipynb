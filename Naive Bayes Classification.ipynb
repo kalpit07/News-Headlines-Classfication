{
 "cells": [
  {
   "cell_type": "markdown",
   "metadata": {},
   "source": [
    "# Naive Bayes Classification"
   ]
  },
  {
   "cell_type": "markdown",
   "metadata": {},
   "source": [
    "&nbsp;"
   ]
  },
  {
   "cell_type": "code",
   "execution_count": 1,
   "metadata": {},
   "outputs": [],
   "source": [
    "# Importing Libraries\n",
    "import numpy as np\n",
    "import pandas as pd"
   ]
  },
  {
   "cell_type": "code",
   "execution_count": 2,
   "metadata": {},
   "outputs": [
    {
     "name": "stdout",
     "output_type": "stream",
     "text": [
      "<class 'pandas.core.frame.DataFrame'>\n"
     ]
    },
    {
     "data": {
      "text/html": [
       "<div>\n",
       "<style scoped>\n",
       "    .dataframe tbody tr th:only-of-type {\n",
       "        vertical-align: middle;\n",
       "    }\n",
       "\n",
       "    .dataframe tbody tr th {\n",
       "        vertical-align: top;\n",
       "    }\n",
       "\n",
       "    .dataframe thead th {\n",
       "        text-align: right;\n",
       "    }\n",
       "</style>\n",
       "<table border=\"1\" class=\"dataframe\">\n",
       "  <thead>\n",
       "    <tr style=\"text-align: right;\">\n",
       "      <th></th>\n",
       "      <th>TITLE</th>\n",
       "      <th>CATEGORY</th>\n",
       "      <th>ENCODED_CATEGORY</th>\n",
       "    </tr>\n",
       "  </thead>\n",
       "  <tbody>\n",
       "    <tr>\n",
       "      <th>0</th>\n",
       "      <td>fed offici say weak data caus weather slow taper</td>\n",
       "      <td>Business</td>\n",
       "      <td>0</td>\n",
       "    </tr>\n",
       "    <tr>\n",
       "      <th>1</th>\n",
       "      <td>fed charl plosser see high bar chang pace taper</td>\n",
       "      <td>Business</td>\n",
       "      <td>0</td>\n",
       "    </tr>\n",
       "    <tr>\n",
       "      <th>2</th>\n",
       "      <td>us open stock fall fed offici hint acceler taper</td>\n",
       "      <td>Business</td>\n",
       "      <td>0</td>\n",
       "    </tr>\n",
       "    <tr>\n",
       "      <th>3</th>\n",
       "      <td>fed risk fall 'behind curv charl plosser say</td>\n",
       "      <td>Business</td>\n",
       "      <td>0</td>\n",
       "    </tr>\n",
       "    <tr>\n",
       "      <th>4</th>\n",
       "      <td>fed plosser nasti weather curb job growth</td>\n",
       "      <td>Business</td>\n",
       "      <td>0</td>\n",
       "    </tr>\n",
       "  </tbody>\n",
       "</table>\n",
       "</div>"
      ],
      "text/plain": [
       "                                              TITLE  CATEGORY  \\\n",
       "0  fed offici say weak data caus weather slow taper  Business   \n",
       "1   fed charl plosser see high bar chang pace taper  Business   \n",
       "2  us open stock fall fed offici hint acceler taper  Business   \n",
       "3      fed risk fall 'behind curv charl plosser say  Business   \n",
       "4         fed plosser nasti weather curb job growth  Business   \n",
       "\n",
       "   ENCODED_CATEGORY  \n",
       "0                 0  \n",
       "1                 0  \n",
       "2                 0  \n",
       "3                 0  \n",
       "4                 0  "
      ]
     },
     "execution_count": 2,
     "metadata": {},
     "output_type": "execute_result"
    }
   ],
   "source": [
    "# Loading DataFrame\n",
    "\n",
    "# Required Library\n",
    "import pickle\n",
    "\n",
    "file = \"pklFiles/DATAFRAME.pkl\"\n",
    "fileobj = open(file, 'rb')\n",
    "df = pickle.load(fileobj)\n",
    "fileobj.close()\n",
    "\n",
    "print(type(df))\n",
    "df.head()"
   ]
  },
  {
   "cell_type": "code",
   "execution_count": 3,
   "metadata": {},
   "outputs": [],
   "source": [
    "# News Headlines\n",
    "X = df['TITLE']\n",
    "\n",
    "# Encoded News Category\n",
    "y = df['ENCODED_CATEGORY']"
   ]
  },
  {
   "cell_type": "code",
   "execution_count": 4,
   "metadata": {},
   "outputs": [],
   "source": [
    "# Splitting the dataset into Training set & Testing set\n",
    "\n",
    "# Required Library\n",
    "from sklearn.model_selection import train_test_split\n",
    "\n",
    "# Testing_set = 25%  and  Training_set = 75%\n",
    "X_train, X_test, y_train, y_test = train_test_split(X, y , test_size = 0.25, random_state = 51)"
   ]
  },
  {
   "cell_type": "code",
   "execution_count": 5,
   "metadata": {},
   "outputs": [
    {
     "name": "stdout",
     "output_type": "stream",
     "text": [
      "Shape of X : (422419,)\n",
      "Shape of y : (422419,)\n",
      "\n",
      "\n",
      "Shape of X_train : (316814,)\n",
      "Shape of y_train : (316814,)\n",
      "Shape of X_test  : (105605,)\n",
      "Shape of y_test  : (105605,)\n"
     ]
    }
   ],
   "source": [
    "print(\"Shape of X : \" + str(X.shape))\n",
    "print(\"Shape of y : \" + str(y.shape))\n",
    "\n",
    "print(\"\\n\")\n",
    "print(\"Shape of X_train : \" + str(X_train.shape))\n",
    "print(\"Shape of y_train : \" + str(y_train.shape))\n",
    "print(\"Shape of X_test  : \" + str(X_test.shape))\n",
    "print(\"Shape of y_test  : \" + str(y_test.shape))"
   ]
  },
  {
   "cell_type": "markdown",
   "metadata": {},
   "source": [
    "&nbsp;"
   ]
  },
  {
   "cell_type": "markdown",
   "metadata": {},
   "source": [
    "### Feature Selection :  TF-IDF Approach"
   ]
  },
  {
   "cell_type": "code",
   "execution_count": 6,
   "metadata": {},
   "outputs": [],
   "source": [
    "# Feature Extraction\n",
    "\n",
    "# Required Library\n",
    "from sklearn.feature_extraction.text import TfidfVectorizer\n",
    "\n",
    "# Instantiating TfidfVectorizer\n",
    "tfidf_vectorizer = TfidfVectorizer()\n",
    "\n",
    "# Fitting & Tranforming Training Data (X_train)\n",
    "tfidf_X_train = tfidf_vectorizer.fit_transform(X_train.values)\n",
    "\n",
    "# Tranforming Testing Data (X_test)\n",
    "tfidf_X_test = tfidf_vectorizer.transform(X_test.values)\n",
    "\n",
    "# Saving tfidf_vectorizer\n",
    "pickle.dump(tfidf_vectorizer, open(\"pklFiles/tfidf_vectorizer.pkl\",\"wb\"))"
   ]
  },
  {
   "cell_type": "code",
   "execution_count": 7,
   "metadata": {},
   "outputs": [],
   "source": [
    "# Multinomial Naive Bayes Classifier\n",
    "\n",
    "# Required Library\n",
    "from sklearn.naive_bayes import MultinomialNB\n",
    "\n",
    "# Instantiating Naive Bayes Classifier with alpha = 1.0\n",
    "nb_classifier = MultinomialNB()\n",
    "\n",
    "# Fitting nb_classifier to Training Data\n",
    "nb_classifier.fit(tfidf_X_train, y_train)\n",
    "\n",
    "# Saving nb_classifier for tfidf_vectorizer\n",
    "pickle.dump(nb_classifier, open(\"pklFiles/nb_classifier_for_tfidf_vectorizer.pkl\", \"wb\"))"
   ]
  },
  {
   "cell_type": "code",
   "execution_count": 8,
   "metadata": {},
   "outputs": [],
   "source": [
    "# Prediction\n",
    "pred = nb_classifier.predict(tfidf_X_test)"
   ]
  },
  {
   "cell_type": "code",
   "execution_count": 9,
   "metadata": {},
   "outputs": [
    {
     "name": "stdout",
     "output_type": "stream",
     "text": [
      "Multinomial Naive Bayes : (TF-IDF Approach) \n",
      "\n",
      "Accuracy : 92.08 %\n",
      "\n",
      "\n",
      "Confusion Matrix :\n",
      "[[26498   674   175  1844]\n",
      " [  530 36828   104   585]\n",
      " [  753   684  9588   305]\n",
      " [ 1910   690   113 24324]]\n"
     ]
    }
   ],
   "source": [
    "# Accuracy Score & Confusion Matrix\n",
    "\n",
    "# Required Library\n",
    "from sklearn import metrics\n",
    "\n",
    "print(\"Multinomial Naive Bayes : (TF-IDF Approach) \\n\")\n",
    "\n",
    "# Accuracy\n",
    "a_score = metrics.accuracy_score(y_test, pred)\n",
    "print(\"Accuracy : \" + str(\"{:.2f}\".format(a_score*100)),'%')\n",
    "\n",
    "print(\"\\n\")\n",
    "\n",
    "# Confusion Matrix\n",
    "# Labels : 0(Business), 1(Entertainment), 2(Health), 3(Science & Technology)\n",
    "# By defualt, Horizontally, Labels are from 0 to 3\n",
    "# By defualt, Vertically,   Labels are from 0 to 3\n",
    "confusion_matrix = metrics.confusion_matrix(y_test, pred)\n",
    "\n",
    "print(\"Confusion Matrix :\")\n",
    "print(confusion_matrix)"
   ]
  },
  {
   "cell_type": "code",
   "execution_count": 10,
   "metadata": {},
   "outputs": [
    {
     "name": "stdout",
     "output_type": "stream",
     "text": [
      "Alpha :  0.0\n",
      "Accuracy Score :  0.9166043274466171\n",
      "\n",
      "Alpha :  0.1\n",
      "Accuracy Score :  0.9250508972113063\n",
      "\n",
      "Alpha :  0.2\n"
     ]
    },
    {
     "name": "stderr",
     "output_type": "stream",
     "text": [
      "C:\\Users\\Abhi\\anaconda3\\lib\\site-packages\\sklearn\\naive_bayes.py:507: UserWarning: alpha too small will result in numeric errors, setting alpha = 1.0e-10\n",
      "  'setting alpha = %.1e' % _ALPHA_MIN)\n"
     ]
    },
    {
     "name": "stdout",
     "output_type": "stream",
     "text": [
      "Accuracy Score :  0.9248615122390038\n",
      "\n",
      "Alpha :  0.30000000000000004\n",
      "Accuracy Score :  0.9243880498082477\n",
      "\n",
      "Alpha :  0.4\n",
      "Accuracy Score :  0.9239808721177974\n",
      "\n",
      "Alpha :  0.5\n",
      "Accuracy Score :  0.9234505941953506\n",
      "\n",
      "Alpha :  0.6000000000000001\n",
      "Accuracy Score :  0.9227404005492165\n",
      "\n",
      "Alpha :  0.7000000000000001\n",
      "Accuracy Score :  0.9221911841295394\n",
      "\n",
      "Alpha :  0.8\n",
      "Accuracy Score :  0.9218029449363193\n",
      "\n",
      "Alpha :  0.9\n",
      "Accuracy Score :  0.9212631977652573\n",
      "\n"
     ]
    }
   ],
   "source": [
    "# Laplace Smoothing (Tunning parameter - alpha)\n",
    "\n",
    "# List of alphas\n",
    "alphas = np.arange(0,1,0.1)\n",
    "\n",
    "# Function for training nb_classifier with different alpha values\n",
    "def train_and_predict(alpha):\n",
    "    \n",
    "    # Instantiating Naive Bayes Classifier\n",
    "    nb_classifier = MultinomialNB(alpha=alpha)\n",
    "    \n",
    "    # Fitting nb_classifier to Training Data\n",
    "    nb_classifier.fit(tfidf_X_train, y_train)\n",
    "    \n",
    "    # Prediction\n",
    "    pred = nb_classifier.predict(tfidf_X_test)\n",
    "    \n",
    "    # Accuracy Score\n",
    "    a_score = metrics.accuracy_score(y_test, pred)\n",
    "    \n",
    "    return a_score\n",
    "\n",
    "\n",
    "# Iterating over alphas & printing the corresponding Accuracy Score\n",
    "for alpha in alphas:\n",
    "    print(\"Alpha : \", alpha)\n",
    "    print(\"Accuracy Score : \", train_and_predict(alpha))\n",
    "    print()"
   ]
  },
  {
   "cell_type": "markdown",
   "metadata": {},
   "source": [
    "With alpha = 1.0, we are getting accuracy of 92%.\n",
    "\n",
    "Then, Trying different values of alpha,\n",
    "Still we are getting approximate accuracy of 92%.\n",
    "\n",
    "So, We don't need to change the value of alpha = 1.0"
   ]
  },
  {
   "cell_type": "markdown",
   "metadata": {},
   "source": [
    "&nbsp;"
   ]
  },
  {
   "cell_type": "markdown",
   "metadata": {},
   "source": [
    "### Feature Selection : Bag of Words (BOW) Approach"
   ]
  },
  {
   "cell_type": "code",
   "execution_count": 11,
   "metadata": {},
   "outputs": [],
   "source": [
    "# Feature Extraction\n",
    "\n",
    "# Required Library\n",
    "from sklearn.feature_extraction.text import CountVectorizer\n",
    "\n",
    "# Instantiating CountVectorizer\n",
    "count_vectorizer = CountVectorizer()\n",
    "\n",
    "# Fitting & Tranforming Training Data (X_train)\n",
    "count_X_train = count_vectorizer.fit_transform(X_train.values)\n",
    "\n",
    "# Tranforming Testing Data (X_test)\n",
    "count_X_test = count_vectorizer.transform(X_test.values)\n",
    "\n",
    "# Saving count_vectorizer\n",
    "pickle.dump(count_vectorizer, open(\"pklFiles/count_vectorizer.pkl\",\"wb\"))"
   ]
  },
  {
   "cell_type": "code",
   "execution_count": 12,
   "metadata": {},
   "outputs": [],
   "source": [
    "# Multinomial Naive Bayes Classifier\n",
    "\n",
    "# Required Library\n",
    "from sklearn.naive_bayes import MultinomialNB\n",
    "\n",
    "# Instantiating Naive Bayes Classifier with alpha = 1.0\n",
    "nb_classifier = MultinomialNB()\n",
    "\n",
    "# Fitting nb_classifier to Training Data\n",
    "nb_classifier.fit(count_X_train, y_train)\n",
    "\n",
    "# Saving nb_classifier for count_vectorizer\n",
    "pickle.dump(nb_classifier, open(\"pklFiles/nb_classifier_for_count_vectorizer.pkl\", \"wb\"))"
   ]
  },
  {
   "cell_type": "code",
   "execution_count": 13,
   "metadata": {},
   "outputs": [],
   "source": [
    "# Prediction\n",
    "pred = nb_classifier.predict(count_X_test)"
   ]
  },
  {
   "cell_type": "code",
   "execution_count": 14,
   "metadata": {},
   "outputs": [
    {
     "name": "stdout",
     "output_type": "stream",
     "text": [
      "Multinomial Naive Bayes : (BOW Approach) \n",
      "\n",
      "Accuracy : 92.23 %\n",
      "\n",
      "\n",
      "Confusion Matrix :\n",
      "[[26271   556   421  1943]\n",
      " [  604 36433   303   707]\n",
      " [  460   364 10300   206]\n",
      " [ 1819   534   284 24400]]\n"
     ]
    }
   ],
   "source": [
    "# Accuracy Score & Confusion Matrix\n",
    "\n",
    "# Required Library\n",
    "from sklearn import metrics\n",
    "\n",
    "print(\"Multinomial Naive Bayes : (BOW Approach) \\n\")\n",
    "\n",
    "# Accuracy\n",
    "a_score = metrics.accuracy_score(y_test, pred)\n",
    "print(\"Accuracy : \" + str(\"{:.2f}\".format(a_score*100)),'%')\n",
    "\n",
    "print(\"\\n\")\n",
    "\n",
    "# Confusion Matrix\n",
    "# Labels : 0(Business), 1(Entertainment), 2(Health), 3(Science & Technology)\n",
    "# By defualt, Horizontally, Labels are from 0 to 3\n",
    "# By defualt, Vertically,   Labels are from 0 to 3\n",
    "confusion_matrix = metrics.confusion_matrix(y_test, pred)\n",
    "\n",
    "print(\"Confusion Matrix :\")\n",
    "print(confusion_matrix)"
   ]
  },
  {
   "cell_type": "code",
   "execution_count": 15,
   "metadata": {},
   "outputs": [
    {
     "name": "stdout",
     "output_type": "stream",
     "text": [
      "Alpha :  0.0\n",
      "Accuracy Score :  0.9182614459542635\n",
      "\n",
      "Alpha :  0.1\n",
      "Accuracy Score :  0.925107712702997\n",
      "\n",
      "Alpha :  0.2\n"
     ]
    },
    {
     "name": "stderr",
     "output_type": "stream",
     "text": [
      "C:\\Users\\Abhi\\anaconda3\\lib\\site-packages\\sklearn\\naive_bayes.py:507: UserWarning: alpha too small will result in numeric errors, setting alpha = 1.0e-10\n",
      "  'setting alpha = %.1e' % _ALPHA_MIN)\n"
     ]
    },
    {
     "name": "stdout",
     "output_type": "stream",
     "text": [
      "Accuracy Score :  0.9244353960513233\n",
      "\n",
      "Alpha :  0.30000000000000004\n",
      "Accuracy Score :  0.9241607878414848\n",
      "\n",
      "Alpha :  0.4\n",
      "Accuracy Score :  0.923791487145495\n",
      "\n",
      "Alpha :  0.5\n",
      "Accuracy Score :  0.9235074096870414\n",
      "\n",
      "Alpha :  0.6000000000000001\n",
      "Accuracy Score :  0.9233369632119691\n",
      "\n",
      "Alpha :  0.7000000000000001\n",
      "Accuracy Score :  0.9230528857535154\n",
      "\n",
      "Alpha :  0.8\n",
      "Accuracy Score :  0.9229392547701339\n",
      "\n",
      "Alpha :  0.9\n",
      "Accuracy Score :  0.922711992803371\n",
      "\n"
     ]
    }
   ],
   "source": [
    "# Laplace Smoothing (Tunning parameter - alpha)\n",
    "\n",
    "# List of alphas\n",
    "alphas = np.arange(0,1,0.1)\n",
    "\n",
    "# Function for training nb_classifier with different alpha values\n",
    "def train_and_predict(alpha):\n",
    "    \n",
    "    # Instantiating Naive Bayes Classifier\n",
    "    nb_classifier = MultinomialNB(alpha=alpha)\n",
    "    \n",
    "    # Fitting nb_classifier to Training Data\n",
    "    nb_classifier.fit(count_X_train, y_train)\n",
    "    \n",
    "    # Prediction\n",
    "    pred = nb_classifier.predict(count_X_test)\n",
    "    \n",
    "    # Accuracy Score\n",
    "    a_score = metrics.accuracy_score(y_test, pred)\n",
    "    \n",
    "    return a_score\n",
    "\n",
    "\n",
    "# Iterating over alphas & printing the corresponding Accuracy Score\n",
    "for alpha in alphas:\n",
    "    print(\"Alpha : \", alpha)\n",
    "    print(\"Accuracy Score : \", train_and_predict(alpha))\n",
    "    print()"
   ]
  },
  {
   "cell_type": "markdown",
   "metadata": {},
   "source": [
    "With alpha = 1.0, we are getting accuracy of 92%\n",
    "\n",
    "Then, Trying different values of alpha,\n",
    "Still we are getting approximate accuracy of 92%.\n",
    "\n",
    "So, We don't need to change the value of alpha = 1.0"
   ]
  },
  {
   "cell_type": "markdown",
   "metadata": {},
   "source": [
    "&nbsp;"
   ]
  },
  {
   "cell_type": "code",
   "execution_count": 16,
   "metadata": {},
   "outputs": [],
   "source": [
    "# Prediction of User News Headline\n",
    "\n",
    "# Loading Model\n",
    "count_vectorizer = pickle.load(open(\"pklFiles/count_vectorizer.pkl\",\"rb\"))\n",
    "nb_classifier = pickle.load(open(\"pklFiles/nb_classifier_for_count_vectorizer.pkl\",\"rb\"))"
   ]
  },
  {
   "cell_type": "code",
   "execution_count": 17,
   "metadata": {},
   "outputs": [
    {
     "name": "stdout",
     "output_type": "stream",
     "text": [
      "News Headline : Apple iPhone 12 likely to feature new LiDAR sensor.\n",
      "News Category :  Science & Technology\n"
     ]
    }
   ],
   "source": [
    "# Values encoded by LabelEncoder\n",
    "encoded = {0:'Business', 1:'Entertainment', 2:'Health', 3:'Science & Technology'}\n",
    "\n",
    "# Input\n",
    "user_headline = [input(\"News Headline : \")]\n",
    "\n",
    "# Transformation & Prediction of User Headline\n",
    "headline_counts = count_vectorizer.transform(user_headline)\n",
    "prediction = nb_classifier.predict(headline_counts)\n",
    "\n",
    "print(\"News Category : \", encoded[prediction[0]])"
   ]
  }
 ],
 "metadata": {
  "kernelspec": {
   "display_name": "Python 3",
   "language": "python",
   "name": "python3"
  },
  "language_info": {
   "codemirror_mode": {
    "name": "ipython",
    "version": 3
   },
   "file_extension": ".py",
   "mimetype": "text/x-python",
   "name": "python",
   "nbconvert_exporter": "python",
   "pygments_lexer": "ipython3",
   "version": "3.7.6"
  }
 },
 "nbformat": 4,
 "nbformat_minor": 4
}
